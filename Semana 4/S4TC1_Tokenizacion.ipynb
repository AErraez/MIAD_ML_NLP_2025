{
  "cells": [
    {
      "cell_type": "markdown",
      "metadata": {
        "id": "w6Utks5mvRMh"
      },
      "source": [
        "![image info](https://raw.githubusercontent.com/albahnsen/MIAD_ML_and_NLP/main/images/banner_1.png)"
      ]
    },
    {
      "cell_type": "markdown",
      "metadata": {
        "id": "se7jqX7KvRMj"
      },
      "source": [
        "# Taller: Tokenización de textos  \n",
        "\n",
        "En este taller podrán poner en práctica sus conocimientos sobre preprocesamiento de texto (tokenización). El taller está constituido por 5 puntos, en los cuales deberan seguir las intrucciones de cada numeral para su desarrollo."
      ]
    },
    {
      "cell_type": "markdown",
      "metadata": {
        "id": "aIXwCpGpvRMk"
      },
      "source": [
        "## Datos detección de toxicidad en comentarios\n",
        "\n",
        "En este taller se usará el conjunto de datos de detección de toxicidad en comentarios de la base de datos de Kaggle. Cada observación es un comentario que tiene como variable objetivo (target) la probabilidad de ser un comentario tóxico. El objetivo es predecir la toxicidad de cada comentario. Para más detalles pueden visitar el siguiente enlace: [datos](https://www.kaggle.com/c/jigsaw-unintended-bias-in-toxicity-classification/data)."
      ]
    },
    {
      "cell_type": "code",
      "execution_count": null,
      "metadata": {
        "id": "Pb1fIod3vRMk"
      },
      "outputs": [],
      "source": [
        "# SUGERIDO: Descomenta la siguiente linea de código si requieres instalar las libreías básicas utilizadas en este notebook\n",
        "# Si requieres incluir más librerías puedes agregarlas al archivo Semana 4\\requirements.txt\n",
        "# !pip install -r requirements.txt"
      ]
    },
    {
      "cell_type": "code",
      "execution_count": 1,
      "metadata": {
        "id": "Tt5vKfdovRMl"
      },
      "outputs": [],
      "source": [
        "import warnings\n",
        "warnings.filterwarnings('ignore')"
      ]
    },
    {
      "cell_type": "code",
      "execution_count": 2,
      "metadata": {
        "id": "E4aoYzA-vRMl",
        "outputId": "d4c5f43a-d3cd-4323-d59f-cc53de123299",
        "colab": {
          "base_uri": "https://localhost:8080/"
        }
      },
      "outputs": [
        {
          "output_type": "stream",
          "name": "stdout",
          "text": [
            "Requirement already satisfied: xgboost in /usr/local/lib/python3.11/dist-packages (2.1.4)\n",
            "Requirement already satisfied: numpy in /usr/local/lib/python3.11/dist-packages (from xgboost) (2.0.2)\n",
            "Requirement already satisfied: nvidia-nccl-cu12 in /usr/local/lib/python3.11/dist-packages (from xgboost) (2.21.5)\n",
            "Requirement already satisfied: scipy in /usr/local/lib/python3.11/dist-packages (from xgboost) (1.15.2)\n"
          ]
        }
      ],
      "source": [
        "# Importación librerías\n",
        "import pandas as pd\n",
        "import numpy as np\n",
        "import scipy as sp\n",
        "from sklearn.model_selection import train_test_split, cross_val_score\n",
        "from sklearn.feature_extraction.text import CountVectorizer, TfidfVectorizer\n",
        "from sklearn.feature_extraction.text import TfidfVectorizer\n",
        "from sklearn import metrics\n",
        "from sklearn.linear_model import Ridge\n",
        "from sklearn.metrics import mean_squared_error\n",
        "from sklearn.metrics import mean_squared_error, r2_score\n",
        "from sklearn.ensemble import RandomForestRegressor, BaggingRegressor, AdaBoostRegressor, GradientBoostingRegressor\n",
        "!pip install xgboost\n",
        "from xgboost import XGBRegressor\n",
        "from matplotlib import pyplot as plt\n",
        "%matplotlib inline"
      ]
    },
    {
      "cell_type": "code",
      "execution_count": 3,
      "metadata": {
        "id": "7nOsudxUvRMm",
        "outputId": "07e8b6d3-5be0-4b7f-ca18-537631686eb3",
        "colab": {
          "base_uri": "https://localhost:8080/",
          "height": 206
        }
      },
      "outputs": [
        {
          "output_type": "execute_result",
          "data": {
            "text/plain": [
              "        id                                       comment_text  target\n",
              "0  6101457  What are you talking about? What group do Pete...     0.0\n",
              "1  5342103   NO!, Let him, we need a Conservative government.     0.0\n",
              "2   743361  Perhaps he took the \"power out of the Cardinal...     0.2\n",
              "3   551008  As always, yours is dripping with sarcasm, whi...     0.0\n",
              "4   865998  The dirty little secret is that the price rang...     0.3"
            ],
            "text/html": [
              "\n",
              "  <div id=\"df-203940ed-a18b-4215-a29d-953c7cbd838d\" class=\"colab-df-container\">\n",
              "    <div>\n",
              "<style scoped>\n",
              "    .dataframe tbody tr th:only-of-type {\n",
              "        vertical-align: middle;\n",
              "    }\n",
              "\n",
              "    .dataframe tbody tr th {\n",
              "        vertical-align: top;\n",
              "    }\n",
              "\n",
              "    .dataframe thead th {\n",
              "        text-align: right;\n",
              "    }\n",
              "</style>\n",
              "<table border=\"1\" class=\"dataframe\">\n",
              "  <thead>\n",
              "    <tr style=\"text-align: right;\">\n",
              "      <th></th>\n",
              "      <th>id</th>\n",
              "      <th>comment_text</th>\n",
              "      <th>target</th>\n",
              "    </tr>\n",
              "  </thead>\n",
              "  <tbody>\n",
              "    <tr>\n",
              "      <th>0</th>\n",
              "      <td>6101457</td>\n",
              "      <td>What are you talking about? What group do Pete...</td>\n",
              "      <td>0.0</td>\n",
              "    </tr>\n",
              "    <tr>\n",
              "      <th>1</th>\n",
              "      <td>5342103</td>\n",
              "      <td>NO!, Let him, we need a Conservative government.</td>\n",
              "      <td>0.0</td>\n",
              "    </tr>\n",
              "    <tr>\n",
              "      <th>2</th>\n",
              "      <td>743361</td>\n",
              "      <td>Perhaps he took the \"power out of the Cardinal...</td>\n",
              "      <td>0.2</td>\n",
              "    </tr>\n",
              "    <tr>\n",
              "      <th>3</th>\n",
              "      <td>551008</td>\n",
              "      <td>As always, yours is dripping with sarcasm, whi...</td>\n",
              "      <td>0.0</td>\n",
              "    </tr>\n",
              "    <tr>\n",
              "      <th>4</th>\n",
              "      <td>865998</td>\n",
              "      <td>The dirty little secret is that the price rang...</td>\n",
              "      <td>0.3</td>\n",
              "    </tr>\n",
              "  </tbody>\n",
              "</table>\n",
              "</div>\n",
              "    <div class=\"colab-df-buttons\">\n",
              "\n",
              "  <div class=\"colab-df-container\">\n",
              "    <button class=\"colab-df-convert\" onclick=\"convertToInteractive('df-203940ed-a18b-4215-a29d-953c7cbd838d')\"\n",
              "            title=\"Convert this dataframe to an interactive table.\"\n",
              "            style=\"display:none;\">\n",
              "\n",
              "  <svg xmlns=\"http://www.w3.org/2000/svg\" height=\"24px\" viewBox=\"0 -960 960 960\">\n",
              "    <path d=\"M120-120v-720h720v720H120Zm60-500h600v-160H180v160Zm220 220h160v-160H400v160Zm0 220h160v-160H400v160ZM180-400h160v-160H180v160Zm440 0h160v-160H620v160ZM180-180h160v-160H180v160Zm440 0h160v-160H620v160Z\"/>\n",
              "  </svg>\n",
              "    </button>\n",
              "\n",
              "  <style>\n",
              "    .colab-df-container {\n",
              "      display:flex;\n",
              "      gap: 12px;\n",
              "    }\n",
              "\n",
              "    .colab-df-convert {\n",
              "      background-color: #E8F0FE;\n",
              "      border: none;\n",
              "      border-radius: 50%;\n",
              "      cursor: pointer;\n",
              "      display: none;\n",
              "      fill: #1967D2;\n",
              "      height: 32px;\n",
              "      padding: 0 0 0 0;\n",
              "      width: 32px;\n",
              "    }\n",
              "\n",
              "    .colab-df-convert:hover {\n",
              "      background-color: #E2EBFA;\n",
              "      box-shadow: 0px 1px 2px rgba(60, 64, 67, 0.3), 0px 1px 3px 1px rgba(60, 64, 67, 0.15);\n",
              "      fill: #174EA6;\n",
              "    }\n",
              "\n",
              "    .colab-df-buttons div {\n",
              "      margin-bottom: 4px;\n",
              "    }\n",
              "\n",
              "    [theme=dark] .colab-df-convert {\n",
              "      background-color: #3B4455;\n",
              "      fill: #D2E3FC;\n",
              "    }\n",
              "\n",
              "    [theme=dark] .colab-df-convert:hover {\n",
              "      background-color: #434B5C;\n",
              "      box-shadow: 0px 1px 3px 1px rgba(0, 0, 0, 0.15);\n",
              "      filter: drop-shadow(0px 1px 2px rgba(0, 0, 0, 0.3));\n",
              "      fill: #FFFFFF;\n",
              "    }\n",
              "  </style>\n",
              "\n",
              "    <script>\n",
              "      const buttonEl =\n",
              "        document.querySelector('#df-203940ed-a18b-4215-a29d-953c7cbd838d button.colab-df-convert');\n",
              "      buttonEl.style.display =\n",
              "        google.colab.kernel.accessAllowed ? 'block' : 'none';\n",
              "\n",
              "      async function convertToInteractive(key) {\n",
              "        const element = document.querySelector('#df-203940ed-a18b-4215-a29d-953c7cbd838d');\n",
              "        const dataTable =\n",
              "          await google.colab.kernel.invokeFunction('convertToInteractive',\n",
              "                                                    [key], {});\n",
              "        if (!dataTable) return;\n",
              "\n",
              "        const docLinkHtml = 'Like what you see? Visit the ' +\n",
              "          '<a target=\"_blank\" href=https://colab.research.google.com/notebooks/data_table.ipynb>data table notebook</a>'\n",
              "          + ' to learn more about interactive tables.';\n",
              "        element.innerHTML = '';\n",
              "        dataTable['output_type'] = 'display_data';\n",
              "        await google.colab.output.renderOutput(dataTable, element);\n",
              "        const docLink = document.createElement('div');\n",
              "        docLink.innerHTML = docLinkHtml;\n",
              "        element.appendChild(docLink);\n",
              "      }\n",
              "    </script>\n",
              "  </div>\n",
              "\n",
              "\n",
              "    <div id=\"df-640e3307-37fc-4484-bd56-46867f740efc\">\n",
              "      <button class=\"colab-df-quickchart\" onclick=\"quickchart('df-640e3307-37fc-4484-bd56-46867f740efc')\"\n",
              "                title=\"Suggest charts\"\n",
              "                style=\"display:none;\">\n",
              "\n",
              "<svg xmlns=\"http://www.w3.org/2000/svg\" height=\"24px\"viewBox=\"0 0 24 24\"\n",
              "     width=\"24px\">\n",
              "    <g>\n",
              "        <path d=\"M19 3H5c-1.1 0-2 .9-2 2v14c0 1.1.9 2 2 2h14c1.1 0 2-.9 2-2V5c0-1.1-.9-2-2-2zM9 17H7v-7h2v7zm4 0h-2V7h2v10zm4 0h-2v-4h2v4z\"/>\n",
              "    </g>\n",
              "</svg>\n",
              "      </button>\n",
              "\n",
              "<style>\n",
              "  .colab-df-quickchart {\n",
              "      --bg-color: #E8F0FE;\n",
              "      --fill-color: #1967D2;\n",
              "      --hover-bg-color: #E2EBFA;\n",
              "      --hover-fill-color: #174EA6;\n",
              "      --disabled-fill-color: #AAA;\n",
              "      --disabled-bg-color: #DDD;\n",
              "  }\n",
              "\n",
              "  [theme=dark] .colab-df-quickchart {\n",
              "      --bg-color: #3B4455;\n",
              "      --fill-color: #D2E3FC;\n",
              "      --hover-bg-color: #434B5C;\n",
              "      --hover-fill-color: #FFFFFF;\n",
              "      --disabled-bg-color: #3B4455;\n",
              "      --disabled-fill-color: #666;\n",
              "  }\n",
              "\n",
              "  .colab-df-quickchart {\n",
              "    background-color: var(--bg-color);\n",
              "    border: none;\n",
              "    border-radius: 50%;\n",
              "    cursor: pointer;\n",
              "    display: none;\n",
              "    fill: var(--fill-color);\n",
              "    height: 32px;\n",
              "    padding: 0;\n",
              "    width: 32px;\n",
              "  }\n",
              "\n",
              "  .colab-df-quickchart:hover {\n",
              "    background-color: var(--hover-bg-color);\n",
              "    box-shadow: 0 1px 2px rgba(60, 64, 67, 0.3), 0 1px 3px 1px rgba(60, 64, 67, 0.15);\n",
              "    fill: var(--button-hover-fill-color);\n",
              "  }\n",
              "\n",
              "  .colab-df-quickchart-complete:disabled,\n",
              "  .colab-df-quickchart-complete:disabled:hover {\n",
              "    background-color: var(--disabled-bg-color);\n",
              "    fill: var(--disabled-fill-color);\n",
              "    box-shadow: none;\n",
              "  }\n",
              "\n",
              "  .colab-df-spinner {\n",
              "    border: 2px solid var(--fill-color);\n",
              "    border-color: transparent;\n",
              "    border-bottom-color: var(--fill-color);\n",
              "    animation:\n",
              "      spin 1s steps(1) infinite;\n",
              "  }\n",
              "\n",
              "  @keyframes spin {\n",
              "    0% {\n",
              "      border-color: transparent;\n",
              "      border-bottom-color: var(--fill-color);\n",
              "      border-left-color: var(--fill-color);\n",
              "    }\n",
              "    20% {\n",
              "      border-color: transparent;\n",
              "      border-left-color: var(--fill-color);\n",
              "      border-top-color: var(--fill-color);\n",
              "    }\n",
              "    30% {\n",
              "      border-color: transparent;\n",
              "      border-left-color: var(--fill-color);\n",
              "      border-top-color: var(--fill-color);\n",
              "      border-right-color: var(--fill-color);\n",
              "    }\n",
              "    40% {\n",
              "      border-color: transparent;\n",
              "      border-right-color: var(--fill-color);\n",
              "      border-top-color: var(--fill-color);\n",
              "    }\n",
              "    60% {\n",
              "      border-color: transparent;\n",
              "      border-right-color: var(--fill-color);\n",
              "    }\n",
              "    80% {\n",
              "      border-color: transparent;\n",
              "      border-right-color: var(--fill-color);\n",
              "      border-bottom-color: var(--fill-color);\n",
              "    }\n",
              "    90% {\n",
              "      border-color: transparent;\n",
              "      border-bottom-color: var(--fill-color);\n",
              "    }\n",
              "  }\n",
              "</style>\n",
              "\n",
              "      <script>\n",
              "        async function quickchart(key) {\n",
              "          const quickchartButtonEl =\n",
              "            document.querySelector('#' + key + ' button');\n",
              "          quickchartButtonEl.disabled = true;  // To prevent multiple clicks.\n",
              "          quickchartButtonEl.classList.add('colab-df-spinner');\n",
              "          try {\n",
              "            const charts = await google.colab.kernel.invokeFunction(\n",
              "                'suggestCharts', [key], {});\n",
              "          } catch (error) {\n",
              "            console.error('Error during call to suggestCharts:', error);\n",
              "          }\n",
              "          quickchartButtonEl.classList.remove('colab-df-spinner');\n",
              "          quickchartButtonEl.classList.add('colab-df-quickchart-complete');\n",
              "        }\n",
              "        (() => {\n",
              "          let quickchartButtonEl =\n",
              "            document.querySelector('#df-640e3307-37fc-4484-bd56-46867f740efc button');\n",
              "          quickchartButtonEl.style.display =\n",
              "            google.colab.kernel.accessAllowed ? 'block' : 'none';\n",
              "        })();\n",
              "      </script>\n",
              "    </div>\n",
              "\n",
              "    </div>\n",
              "  </div>\n"
            ],
            "application/vnd.google.colaboratory.intrinsic+json": {
              "type": "dataframe",
              "variable_name": "df"
            }
          },
          "metadata": {},
          "execution_count": 3
        }
      ],
      "source": [
        "# Carga de datos de archivos .csv\n",
        "df = pd.read_csv('https://raw.githubusercontent.com/davidzarruk/MIAD_ML_NLP_2025/main/datasets/Toxicity.zip')\n",
        "df = df[['id','comment_text', 'target']]\n",
        "df.head()"
      ]
    },
    {
      "cell_type": "code",
      "execution_count": 4,
      "metadata": {
        "id": "641XSAZZvRMm",
        "outputId": "021c1b10-c33e-4e0f-d290-520c5e0aa386",
        "colab": {
          "base_uri": "https://localhost:8080/"
        }
      },
      "outputs": [
        {
          "output_type": "execute_result",
          "data": {
            "text/plain": [
              "(541462, 3)"
            ]
          },
          "metadata": {},
          "execution_count": 4
        }
      ],
      "source": [
        "df.shape"
      ]
    },
    {
      "cell_type": "code",
      "execution_count": 5,
      "metadata": {
        "id": "EFScRBDGvRMm",
        "outputId": "05ecfef8-c847-4a0f-d46d-0a053b0a5448",
        "colab": {
          "base_uri": "https://localhost:8080/",
          "height": 447
        }
      },
      "outputs": [
        {
          "output_type": "execute_result",
          "data": {
            "text/plain": [
              "<Axes: >"
            ]
          },
          "metadata": {},
          "execution_count": 5
        },
        {
          "output_type": "display_data",
          "data": {
            "text/plain": [
              "<Figure size 640x480 with 1 Axes>"
            ],
            "image/png": "[encoded data removed]"
          },
          "metadata": {}
        }
      ],
      "source": [
        "# Impresión histograma de variable de interés (y)\n",
        "df.target.hist()"
      ]
    },
    {
      "cell_type": "code",
      "execution_count": 6,
      "metadata": {
        "id": "kS3OHG9QvRMn",
        "outputId": "f770b2a5-91b3-4f20-9ff6-e2031aca26c3",
        "colab": {
          "base_uri": "https://localhost:8080/",
          "height": 335
        }
      },
      "outputs": [
        {
          "output_type": "execute_result",
          "data": {
            "text/plain": [
              "count    541462.000000\n",
              "mean          0.102991\n",
              "std           0.196979\n",
              "min           0.000000\n",
              "25%           0.000000\n",
              "50%           0.000000\n",
              "75%           0.166667\n",
              "max           1.000000\n",
              "Name: target, dtype: float64"
            ],
            "text/html": [
              "<div>\n",
              "<style scoped>\n",
              "    .dataframe tbody tr th:only-of-type {\n",
              "        vertical-align: middle;\n",
              "    }\n",
              "\n",
              "    .dataframe tbody tr th {\n",
              "        vertical-align: top;\n",
              "    }\n",
              "\n",
              "    .dataframe thead th {\n",
              "        text-align: right;\n",
              "    }\n",
              "</style>\n",
              "<table border=\"1\" class=\"dataframe\">\n",
              "  <thead>\n",
              "    <tr style=\"text-align: right;\">\n",
              "      <th></th>\n",
              "      <th>target</th>\n",
              "    </tr>\n",
              "  </thead>\n",
              "  <tbody>\n",
              "    <tr>\n",
              "      <th>count</th>\n",
              "      <td>541462.000000</td>\n",
              "    </tr>\n",
              "    <tr>\n",
              "      <th>mean</th>\n",
              "      <td>0.102991</td>\n",
              "    </tr>\n",
              "    <tr>\n",
              "      <th>std</th>\n",
              "      <td>0.196979</td>\n",
              "    </tr>\n",
              "    <tr>\n",
              "      <th>min</th>\n",
              "      <td>0.000000</td>\n",
              "    </tr>\n",
              "    <tr>\n",
              "      <th>25%</th>\n",
              "      <td>0.000000</td>\n",
              "    </tr>\n",
              "    <tr>\n",
              "      <th>50%</th>\n",
              "      <td>0.000000</td>\n",
              "    </tr>\n",
              "    <tr>\n",
              "      <th>75%</th>\n",
              "      <td>0.166667</td>\n",
              "    </tr>\n",
              "    <tr>\n",
              "      <th>max</th>\n",
              "      <td>1.000000</td>\n",
              "    </tr>\n",
              "  </tbody>\n",
              "</table>\n",
              "</div><br><label><b>dtype:</b> float64</label>"
            ]
          },
          "metadata": {},
          "execution_count": 6
        }
      ],
      "source": [
        "# Separación de variable de interés (y)\n",
        "y = df.target\n",
        "y.describe()"
      ]
    },
    {
      "cell_type": "code",
      "execution_count": 7,
      "metadata": {
        "id": "cJRqEfsQvRMn"
      },
      "outputs": [],
      "source": [
        "# Separación de variables predictoras (X), solo se considera el texto de la noticia\n",
        "X = df.comment_text"
      ]
    },
    {
      "cell_type": "code",
      "execution_count": 8,
      "metadata": {
        "id": "kCcTwOX2vRMn"
      },
      "outputs": [],
      "source": [
        "# Separación de datos en set de entrenamiento y test\n",
        "X_train, X_test, y_train, y_test = train_test_split(X, y, test_size=0.33, random_state=42)"
      ]
    },
    {
      "cell_type": "markdown",
      "metadata": {
        "id": "2ZkdmwJDvRMn"
      },
      "source": [
        "## Punto 1 - Tokenización con CountVectorizer\n",
        "\n",
        "En la celda 1 creen y entrenen el modelo de regresión de su preferencia, para que prediga la probabilidad de que un comentario sea tóxico, usando los set de entrenamiento y test definidos anteriormente. Usen la función **CountVectorizer** para preprocesar los comentarios y presenten el desempeño del modelo con la métrica del MSE.\n",
        "\n",
        "Recuerden que el preprocesamiento que se haga sobre los datos de entrenamiento  (*.fit_transform()*) deben ser aplicado al set de test (*.transform()*)."
      ]
    },
    {
      "cell_type": "code",
      "execution_count": 9,
      "metadata": {
        "id": "bcxByahtvRMo",
        "outputId": "dedb9a32-f902-49ec-af98-047ce53ed6dd",
        "colab": {
          "base_uri": "https://localhost:8080/"
        }
      },
      "outputs": [
        {
          "output_type": "stream",
          "name": "stdout",
          "text": [
            "Error cuadrático medio (MSE): 0.020689791583810714\n",
            "Coeficiente de determinación (R^2): 0.4699489081371663\n"
          ]
        }
      ],
      "source": [
        "# Celda 1\n",
        "vect_1 = CountVectorizer()\n",
        "X_train_1 = vect_1.fit_transform(X_train)\n",
        "X_test_1 = vect_1.transform(X_test)\n",
        "\n",
        "### Modelo\n",
        "model = XGBRegressor(tree_method='hist', n_estimators=100, max_depth=6)\n",
        "model.fit(X_train_1, y_train)\n",
        "\n",
        "### Predicción\n",
        "y_pred=model.predict(X_test_1)\n",
        "\n",
        "### MSE y R cuadrado\n",
        "mse_1 = mean_squared_error(y_test, y_pred)\n",
        "r2_1 = r2_score(y_test, y_pred)\n",
        "\n",
        "print(\"Error cuadrático medio (MSE):\", mse_1)\n",
        "print(\"Coeficiente de determinación (R^2):\", r2_1)"
      ]
    },
    {
      "cell_type": "markdown",
      "source": [
        "En el anterior procedimiento el método CountVectorizer convierte texto en una matriz de conteo de palabras. En otras palabras, este método convierte el texto en vectores numéricos donde cada número indica el número de veces que aparece cada palabra en cada documento. Con esta metodología se entrenó un modelo de XGBoost de regresión. Al final, el modelo obtenido mostró un coeficiente de determinación del 46.99%, un puntaje bastante bajo para predecir la toxicidad del comentario.\n",
        "\n"
      ],
      "metadata": {
        "id": "KINqQlpZ6KQl"
      }
    },
    {
      "cell_type": "markdown",
      "metadata": {
        "id": "hEAgCtI6vRMo"
      },
      "source": [
        "## Punto 2 - Tokenización con CountVectorizer y trigramas\n",
        "\n",
        "En la celda 2 creen y entrenen el mismo modelo de regresión del punto anterior (es decir si usaron un RandomForestRegresor usen nuevamente ese regresor), para que prediga la probabilidad de que un comentario sea tóxico, usando los set de entrenamiento y test definidos anteriormente. Usen la función CountVectorizer **considerando trigramas** para preprocesar los comentarios y presenten el desempeño del modelo con la métrica del MSE.\n",
        "\n",
        "Recuerden que el preprocesamiento que se haga sobre los datos de entrenamiento  (*.fit_transform()*) deben ser aplicado al set de test (*.transform()*)."
      ]
    },
    {
      "cell_type": "code",
      "execution_count": 10,
      "metadata": {
        "id": "L0jOWN2dvRMo",
        "colab": {
          "base_uri": "https://localhost:8080/"
        },
        "outputId": "7200604d-d001-4a1f-970e-ccf6a2dada29"
      },
      "outputs": [
        {
          "output_type": "stream",
          "name": "stdout",
          "text": [
            "Error cuadrático medio (MSE): 0.02423736327645469\n",
            "Coeficiente de determinación (R^2): 0.3790637853204152\n"
          ]
        }
      ],
      "source": [
        "# Celda 2\n",
        "# Inicialización de CountVectorizer con trigramas\n",
        "vect_2 = CountVectorizer(ngram_range=(1, 3), max_features=5000)\n",
        "\n",
        "# Transformar los conjuntos de entrenamiento y prueba\n",
        "X_train_2 = vect_2.fit_transform(X_train)\n",
        "X_test_2 = vect_2.transform(X_test)\n",
        "\n",
        "# Inicialización y entrenamiento del modelo XGBRegressor\n",
        "model_2 = XGBRegressor(tree_method='hist', n_estimators=100, max_depth=6)\n",
        "model_2.fit(X_train_2, y_train)\n",
        "\n",
        "# Predicción\n",
        "y_pred_2 = model_2.predict(X_test_2)\n",
        "\n",
        "# Cálculo de MSE\n",
        "mse_2 = mean_squared_error(y_test, y_pred_2)\n",
        "r2_2 = r2_score(y_test, y_pred_2)\n",
        "print(f\"Error cuadrático medio (MSE): {mse_2}\")\n",
        "print(f\"Coeficiente de determinación (R^2): {r2_2}\")"
      ]
    },
    {
      "cell_type": "markdown",
      "source": [
        "Ahora, usanto el mismo método, se crearon trigramas para entrenar el modelo de regresión con XGBoost. Con esto, se obtuvo un coeficiente de determinación del 37.91%, en este caso, inferior a la metodología anterior desarrollada."
      ],
      "metadata": {
        "id": "LRetO6Sb69E3"
      }
    },
    {
      "cell_type": "markdown",
      "metadata": {
        "id": "GrhfoabTvRMo"
      },
      "source": [
        "## Punto 3 - TfidfVectorizer\n",
        "\n",
        "Investigen sobre la función TfidfVectorizer. En la celda de texto 3, expliquen en qué consiste esta técnica de tokenización (describanla y expliquen su funcionamiento) y cúales son las ventajas o deventajas de su uso al compararlo con la función CountVectorizer."
      ]
    },
    {
      "cell_type": "markdown",
      "metadata": {
        "id": "q0IdWAXyvRMo"
      },
      "source": [
        "**TfidfVectorizer** es una técnica de vectorización de texto que se utiliza comúnmente en el procesamiento de lenguaje natural (NLP) para convertir un conjunto de documentos de texto en una matriz de características numéricas, donde cada característica representa la importancia de una palabra en un documento relativa al resto de documentos del corpus.\n",
        "\n",
        "1. **Frecuencia de términos (TF):** TF mide la frecuencia de un término en un texto. Es decir mide cuantas veces aparece una palabra en un documento. Cuanto más frecuente sea un término en el texto, mayor será su valor TF para ese texto, evidenciando una relación directa.\n",
        "\n",
        "$$TF(t,d)=\\frac{numero~de~veces~que~t~aparece~en~d}{total~de~terminos~en~d}$$\n",
        "\n",
        "2. **Frecuencia inversa de documento (IDF):** IDF mide la importancia de un término en el conjunto de textos. Los términos que aparecen en muchos textos tendrán un IDF más bajo, mientras que los términos que aparecen en pocos textos tendrán un IDF más alto. Es decir, mide cuán rara o común es una palabra en el conjunto total de documentos. Esto se calcula tomando el logaritmo del inverso de la frecuencia del documento que contiene el término y luego agregando 1 para evitar la división por cero.\n",
        "\n",
        "$$IDF(t)=log \\frac{1+n}{1+df(t)}+1 $$\n",
        "\n",
        "Donde N = número total de documentos y df(t) = número de documentos que contienen el término t\n",
        "\n",
        "3. **TFIDF**: La ponderación TF-IDF combina TF y IDF para calcular un valor ponderado para cada término en cada documento. Esto se hace multiplicando la frecuencia del término (TF) por la frecuencia inversa del documento (IDF). En sintesís, se se valora más a las palabras frecuentes en un documento pero raras en el corpus.\n",
        "\n",
        "$$TF - IDF(t,d)= TF(t,d)*IDF(t) $$\n",
        "\n",
        "**Ventajas**\n",
        "\n",
        "* TfidfVectorizer tiene en cuenta no solo la frecuencia de los términos en un documento, sino también la importancia de esos términos en el conjunto de documentos. Esto puede ayudar a dar más peso a los términos que son únicos o raros en el corpus. Es decir, le da peso a Las palabras raras y distintivas reciben mayor peso. Pero, Reduce la influencia de palabras muy frecuentes pero poco informativas como “el”, “y”, “de”.\n",
        "\n",
        "* Los términos que aparecen en muchos documentos suelen ser palabras comunes que pueden no ser muy informativas, reduciendi el peso de estos términos comunes asignándoles un valor IDF más bajo.\n",
        "\n",
        "* Mejora el rendimiento en tareas como clasificación de texto y detección de spam.\n",
        "\n",
        "* Esta metodología también normaliza las frecuencias de términos por la longitud del documento, lo que puede ayudar a manejar la variación en la longitud de los documentos.\n",
        "\n",
        "**Desventajas:**\n",
        "\n",
        "* Los valores TF-IDF no son tan intuitivos como simplemente contar la frecuencia de términos, generando una reducción en la interpretación para algunos casos.\n",
        "\n",
        "* Palabras relevantes pero muy comunes pueden perder peso (lo cual no siempre es deseado).\n",
        "\n",
        "* El cálculo de los valores TF-IDF puede ser más costoso computacionalmente en comparación con CountVectorizer, especialmente para corpus grandes."
      ]
    },
    {
      "cell_type": "markdown",
      "metadata": {
        "id": "Ihwf3bLavRMo"
      },
      "source": [
        "## Punto 4 - Tokenización con TfidfVectorizer\n",
        "\n",
        "En la celda 4 creen y entrenen el mismo modelo de regresión del primer punto, para que prediga la probabilidad de que un comentario sea tóxico, usando los set de entrenamiento y test definidos anteriormente. Procesen los comentarios con la función **TfidfVectorizer** y presenten el desempeño del modelo con la métrica del MSE.\n",
        "\n",
        "Recuerden que el preprocesamiento que se haga sobre los datos de entrenamiento  (*.fit_transform()*) deben ser aplicado al set de test (*.transform()*)."
      ]
    },
    {
      "cell_type": "code",
      "execution_count": 11,
      "metadata": {
        "id": "xxrXm2RTvRMo",
        "colab": {
          "base_uri": "https://localhost:8080/"
        },
        "outputId": "e9869ef7-9577-4f03-82d8-aab958edee7d"
      },
      "outputs": [
        {
          "output_type": "stream",
          "name": "stdout",
          "text": [
            "Error cuadrático medio (MSE): 0.020335956149285114\n",
            "Coeficiente de determinación (R^2): 0.47901380652680536\n"
          ]
        }
      ],
      "source": [
        "# Celda 4\n",
        "# Inicializar TfidfVectorizer\n",
        "tfidf_vect = TfidfVectorizer()\n",
        "\n",
        "# Transformar los conjuntos de entrenamiento y prueba\n",
        "X_train_tfidf = tfidf_vect.fit_transform(X_train)\n",
        "X_test_tfidf = tfidf_vect.transform(X_test)\n",
        "\n",
        "# Inicializar y entrenar el modelo XGBRegressor\n",
        "model = XGBRegressor(tree_method='hist', n_estimators=100, max_depth=6)\n",
        "model.fit(X_train_tfidf, y_train)\n",
        "\n",
        "y_pred = model.predict(X_test_tfidf)\n",
        "\n",
        "# Calcular MSE y R cuadrado\n",
        "mse = mean_squared_error(y_test, y_pred)\n",
        "r2 = r2_score(y_test, y_pred)\n",
        "\n",
        "mse, r2\n",
        "print(f\"Error cuadrático medio (MSE): {mse}\")\n",
        "print(f\"Coeficiente de determinación (R^2): {r2}\")"
      ]
    },
    {
      "cell_type": "markdown",
      "source": [
        "Finalmente, con TfidfVectorizer se obtuvo un coeficiente de determinación del modelo de 47.90%, el más alto en comparación con las otras dos metodologías."
      ],
      "metadata": {
        "id": "_XKq9YQM6PPy"
      }
    },
    {
      "cell_type": "markdown",
      "metadata": {
        "id": "h5f0d4GhvRMo"
      },
      "source": [
        "## Punto 5 - Comparación y análisis de resultados\n",
        "\n",
        "En la celda 5 comparen los resultados obtenidos de los diferentes modelos y comenten cómo el preprocesamiento de texto afecta el desempeño."
      ]
    },
    {
      "cell_type": "code",
      "execution_count": 15,
      "metadata": {
        "id": "QEggbHrBvRMo",
        "colab": {
          "base_uri": "https://localhost:8080/",
          "height": 1000
        },
        "outputId": "806fa363-8adf-44b3-e69f-050d565dc37c"
      },
      "outputs": [
        {
          "output_type": "display_data",
          "data": {
            "text/plain": [
              "<Figure size 640x480 with 1 Axes>"
            ],
            "image/png": "[encoded data removed]"
          },
          "metadata": {}
        },
        {
          "output_type": "display_data",
          "data": {
            "text/plain": [
              "<Figure size 640x480 with 1 Axes>"
            ],
            "image/png": "[encoded data removed]"
          },
          "metadata": {}
        }
      ],
      "source": [
        "# Celda 5 Código para graficos y tablas comparativas\n",
        "import matplotlib.pyplot as plt\n",
        "import seaborn as sns\n",
        "\n",
        "\n",
        "# Comparación por MSE\n",
        "fig = plt.figure()\n",
        "ax = fig.add_axes([0,0,1,1])\n",
        "ax.set_title(\"Comparación por MSE\")\n",
        "ejeX = ['CountVectorizer', 'Trigramas', 'TfidfVectorizer']\n",
        "ejeY = [round(mse_1, 4), round(mse_2, 4), round(mse, 4)]\n",
        "ax.plot(ejeX, ejeY, marker='o', color='yellow')\n",
        "ax.bar(ejeX, ejeY, color=\"c\")\n",
        "def addlabels(x,y,plotP):\n",
        "    for i in range(len(x)):\n",
        "        plotP.text(i,y[i],y[i])\n",
        "addlabels(ejeX,ejeY,plt)\n",
        "plt.show()\n",
        "\n",
        "# Comparación por R cuadrado\n",
        "fig = plt.figure()\n",
        "ax = fig.add_axes([0,0,1,1])\n",
        "ax.set_title(\"Comparación por R cuadrado\")\n",
        "ejeX = ['CountVectorizer', 'Trigramas', 'TfidfVectorizer']\n",
        "ejeY = [round(r2_1, 4), round(r2_2, 4), round(r2, 4)]\n",
        "ax.plot(ejeX, ejeY, marker='o', color='red')\n",
        "ax.bar(ejeX, ejeY, color=\"g\")\n",
        "def addlabels(x,y,plotP):\n",
        "    for i in range(len(x)):\n",
        "        plotP.text(i,y[i],y[i])\n",
        "addlabels(ejeX,ejeY,plt)\n",
        "plt.show()\n"
      ]
    },
    {
      "cell_type": "markdown",
      "source": [
        "Como puede observarse en las gráficas, realizar la regresión con el previo preprocesamiento de los textos con TfidfVectorizer permite minimizar el error cuadrático medio y obtener mayor coeficiente de determinación. Así, en este caso de estudio esta es la metodología de preprocesamiento de elección. Llama la atención que el modelo con trigramas tiene un menor rendimiento en este caso. Esto puede deberse a En tu caso, que notes mejor desempeño con trigramas sugiere que probablemente en este caso el problema depende del contexto local de las palabras, las frases de 3 palabras están capturando patrones que los unigramas no ven y el dataset probablemente tiene suficiente tamaño o no sufre tanto por el aumento de dimensionalidad. Adicionalmente, con los trigramas hay un mayor riesgo de overfitting. Finalmente, usando TfidfVectorizer el modelo tiene un mejor desempeño y puede deberse a que la frecuencia bruta de las palabras engañaba al modelo: con TF-IDF, aprende de las palabras/frases realmente distintivas, no de palabras vacías o frecuentes. En conclusión, se puede ver cómo en este caso las metodologías de preprocesamiento influyen en el rendimiento del modelo, siendo TF-IDF la más eficiente.\n",
        "\n"
      ],
      "metadata": {
        "id": "Z1igOK-n6eVK"
      }
    }
  ],
  "metadata": {
    "kernelspec": {
      "display_name": "Python 3 (ipykernel)",
      "language": "python",
      "name": "python3"
    },
    "language_info": {
      "codemirror_mode": {
        "name": "ipython",
        "version": 3
      },
      "file_extension": ".py",
      "mimetype": "text/x-python",
      "name": "python",
      "nbconvert_exporter": "python",
      "pygments_lexer": "ipython3",
      "version": "3.10.9"
    },
    "name": "_merged",
    "colab": {
      "provenance": []
    }
  },
  "nbformat": 4,
  "nbformat_minor": 0
}